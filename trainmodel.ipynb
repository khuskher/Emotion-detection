{
 "cells": [
  {
   "cell_type": "code",
   "execution_count": 8,
   "id": "cbb748da",
   "metadata": {},
   "outputs": [],
   "source": [
    "from keras.utils import to_categorical, load_img\n",
    "# from keras_preprocessing.image import load_img\n",
    "from keras.models import Sequential\n",
    "from keras.layers import Dense, Conv2D, Dropout, Flatten, MaxPooling2D\n",
    "import os\n",
    "import pandas as pd\n",
    "import numpy as np"
   ]
  },
  {
   "cell_type": "code",
   "execution_count": 9,
   "id": "e4e84cfc",
   "metadata": {},
   "outputs": [],
   "source": [
    "TRAIN_DIR = 'images/train'\n",
    "TEST_DIR = 'images/test'"
   ]
  },
  {
   "cell_type": "code",
   "execution_count": 17,
   "id": "a5a07d34",
   "metadata": {},
   "outputs": [],
   "source": [
    "def createdataframe(dir):\n",
    "    images_paths = []\n",
    "    labels = []\n",
    "    for label in os.listdir(dir):\n",
    "        for imagename in os.listdir(os.path.join(dir, label)):\n",
    "            images_paths.append(os.path.join(dir, label, imagename))\n",
    "            labels.append(label)\n",
    "        print(label, \"completed\")\n",
    "    return images_paths, labels"
   ]
  },
  {
   "cell_type": "code",
   "execution_count": 18,
   "id": "38bf4bd1",
   "metadata": {},
   "outputs": [
    {
     "name": "stdout",
     "output_type": "stream",
     "text": [
      "angry completed\n",
      "disgust completed\n",
      "fear completed\n",
      "happy completed\n",
      "neutral completed\n",
      "sad completed\n",
      "surprise completed\n"
     ]
    }
   ],
   "source": [
    "train = pd.DataFrame()\n",
    "train['image'], train['label'] = createdataframe(TRAIN_DIR)"
   ]
  },
  {
   "cell_type": "code",
   "execution_count": 19,
   "id": "b19af147",
   "metadata": {},
   "outputs": [
    {
     "name": "stdout",
     "output_type": "stream",
     "text": [
      "                                image     label\n",
      "0            images/train\\angry\\0.jpg     angry\n",
      "1            images/train\\angry\\1.jpg     angry\n",
      "2           images/train\\angry\\10.jpg     angry\n",
      "3        images/train\\angry\\10002.jpg     angry\n",
      "4        images/train\\angry\\10016.jpg     angry\n",
      "...                               ...       ...\n",
      "28816  images/train\\surprise\\9969.jpg  surprise\n",
      "28817  images/train\\surprise\\9985.jpg  surprise\n",
      "28818  images/train\\surprise\\9990.jpg  surprise\n",
      "28819  images/train\\surprise\\9992.jpg  surprise\n",
      "28820  images/train\\surprise\\9996.jpg  surprise\n",
      "\n",
      "[28821 rows x 2 columns]\n"
     ]
    }
   ],
   "source": [
    "print(train)"
   ]
  },
  {
   "cell_type": "code",
   "execution_count": 20,
   "id": "d5264430",
   "metadata": {},
   "outputs": [
    {
     "name": "stdout",
     "output_type": "stream",
     "text": [
      "angry completed\n",
      "disgust completed\n",
      "fear completed\n",
      "happy completed\n",
      "neutral completed\n",
      "sad completed\n",
      "surprise completed\n"
     ]
    }
   ],
   "source": [
    "test = pd.DataFrame()\n",
    "test['image'], test['label'] = createdataframe(TEST_DIR)"
   ]
  },
  {
   "cell_type": "code",
   "execution_count": 25,
   "id": "67f23b38",
   "metadata": {},
   "outputs": [
    {
     "name": "stdout",
     "output_type": "stream",
     "text": [
      "                              image     label\n",
      "0       images/test\\angry\\10052.jpg     angry\n",
      "1       images/test\\angry\\10065.jpg     angry\n",
      "2       images/test\\angry\\10079.jpg     angry\n",
      "3       images/test\\angry\\10095.jpg     angry\n",
      "4       images/test\\angry\\10121.jpg     angry\n",
      "...                             ...       ...\n",
      "7061  images/test\\surprise\\9806.jpg  surprise\n",
      "7062  images/test\\surprise\\9830.jpg  surprise\n",
      "7063  images/test\\surprise\\9853.jpg  surprise\n",
      "7064  images/test\\surprise\\9878.jpg  surprise\n",
      "7065   images/test\\surprise\\993.jpg  surprise\n",
      "\n",
      "[7066 rows x 2 columns]\n",
      "0         images/test\\angry\\10052.jpg\n",
      "1         images/test\\angry\\10065.jpg\n",
      "2         images/test\\angry\\10079.jpg\n",
      "3         images/test\\angry\\10095.jpg\n",
      "4         images/test\\angry\\10121.jpg\n",
      "                    ...              \n",
      "7061    images/test\\surprise\\9806.jpg\n",
      "7062    images/test\\surprise\\9830.jpg\n",
      "7063    images/test\\surprise\\9853.jpg\n",
      "7064    images/test\\surprise\\9878.jpg\n",
      "7065     images/test\\surprise\\993.jpg\n",
      "Name: image, Length: 7066, dtype: object\n"
     ]
    }
   ],
   "source": [
    "print(test)\n",
    "print(test['image'])"
   ]
  },
  {
   "cell_type": "code",
   "execution_count": 26,
   "id": "f9680318",
   "metadata": {},
   "outputs": [],
   "source": [
    "from tqdm.notebook import tqdm"
   ]
  },
  {
   "cell_type": "code",
   "execution_count": 27,
   "id": "659a01bd",
   "metadata": {},
   "outputs": [],
   "source": [
    "def extract_features(images):\n",
    "    features = []\n",
    "    for image in tqdm(images):\n",
    "        img = load_img(image, grayscale = True)\n",
    "        img = np.array(img)\n",
    "        features.append(img)\n",
    "    features = np.array(features)\n",
    "    features = features.reshape(len(features), 48, 48, 1)\n",
    "    return features"
   ]
  },
  {
   "cell_type": "code",
   "execution_count": 28,
   "id": "f289ea48",
   "metadata": {},
   "outputs": [
    {
     "data": {
      "application/vnd.jupyter.widget-view+json": {
       "model_id": "e6ef952ac6de4947a347156a2e2d5ec3",
       "version_major": 2,
       "version_minor": 0
      },
      "text/plain": [
       "  0%|          | 0/28821 [00:00<?, ?it/s]"
      ]
     },
     "metadata": {},
     "output_type": "display_data"
    },
    {
     "name": "stderr",
     "output_type": "stream",
     "text": [
      "C:\\Users\\HP SPECTRE\\AppData\\Local\\Programs\\Python\\Python311\\Lib\\site-packages\\keras\\src\\utils\\image_utils.py:409: UserWarning: grayscale is deprecated. Please use color_mode = \"grayscale\"\n",
      "  warnings.warn(\n"
     ]
    }
   ],
   "source": [
    "train_features = extract_features(train['image'])"
   ]
  },
  {
   "cell_type": "code",
   "execution_count": 30,
   "id": "b948aa3c",
   "metadata": {},
   "outputs": [
    {
     "data": {
      "application/vnd.jupyter.widget-view+json": {
       "model_id": "be001f0c6a8648598efdc7018dbc63cb",
       "version_major": 2,
       "version_minor": 0
      },
      "text/plain": [
       "  0%|          | 0/7066 [00:00<?, ?it/s]"
      ]
     },
     "metadata": {},
     "output_type": "display_data"
    }
   ],
   "source": [
    "test_features = extract_features(test['image'])"
   ]
  },
  {
   "cell_type": "code",
   "execution_count": 31,
   "id": "09ad4e12",
   "metadata": {},
   "outputs": [],
   "source": [
    "X_train = train_features/255.0\n",
    "X_test = test_features/255.0"
   ]
  },
  {
   "cell_type": "code",
   "execution_count": 33,
   "id": "5d0d94a6",
   "metadata": {},
   "outputs": [],
   "source": [
    "from sklearn.preprocessing import LabelEncoder"
   ]
  },
  {
   "cell_type": "code",
   "execution_count": 34,
   "id": "4d5531e2",
   "metadata": {},
   "outputs": [
    {
     "data": {
      "text/html": [
       "<style>#sk-container-id-1 {color: black;}#sk-container-id-1 pre{padding: 0;}#sk-container-id-1 div.sk-toggleable {background-color: white;}#sk-container-id-1 label.sk-toggleable__label {cursor: pointer;display: block;width: 100%;margin-bottom: 0;padding: 0.3em;box-sizing: border-box;text-align: center;}#sk-container-id-1 label.sk-toggleable__label-arrow:before {content: \"▸\";float: left;margin-right: 0.25em;color: #696969;}#sk-container-id-1 label.sk-toggleable__label-arrow:hover:before {color: black;}#sk-container-id-1 div.sk-estimator:hover label.sk-toggleable__label-arrow:before {color: black;}#sk-container-id-1 div.sk-toggleable__content {max-height: 0;max-width: 0;overflow: hidden;text-align: left;background-color: #f0f8ff;}#sk-container-id-1 div.sk-toggleable__content pre {margin: 0.2em;color: black;border-radius: 0.25em;background-color: #f0f8ff;}#sk-container-id-1 input.sk-toggleable__control:checked~div.sk-toggleable__content {max-height: 200px;max-width: 100%;overflow: auto;}#sk-container-id-1 input.sk-toggleable__control:checked~label.sk-toggleable__label-arrow:before {content: \"▾\";}#sk-container-id-1 div.sk-estimator input.sk-toggleable__control:checked~label.sk-toggleable__label {background-color: #d4ebff;}#sk-container-id-1 div.sk-label input.sk-toggleable__control:checked~label.sk-toggleable__label {background-color: #d4ebff;}#sk-container-id-1 input.sk-hidden--visually {border: 0;clip: rect(1px 1px 1px 1px);clip: rect(1px, 1px, 1px, 1px);height: 1px;margin: -1px;overflow: hidden;padding: 0;position: absolute;width: 1px;}#sk-container-id-1 div.sk-estimator {font-family: monospace;background-color: #f0f8ff;border: 1px dotted black;border-radius: 0.25em;box-sizing: border-box;margin-bottom: 0.5em;}#sk-container-id-1 div.sk-estimator:hover {background-color: #d4ebff;}#sk-container-id-1 div.sk-parallel-item::after {content: \"\";width: 100%;border-bottom: 1px solid gray;flex-grow: 1;}#sk-container-id-1 div.sk-label:hover label.sk-toggleable__label {background-color: #d4ebff;}#sk-container-id-1 div.sk-serial::before {content: \"\";position: absolute;border-left: 1px solid gray;box-sizing: border-box;top: 0;bottom: 0;left: 50%;z-index: 0;}#sk-container-id-1 div.sk-serial {display: flex;flex-direction: column;align-items: center;background-color: white;padding-right: 0.2em;padding-left: 0.2em;position: relative;}#sk-container-id-1 div.sk-item {position: relative;z-index: 1;}#sk-container-id-1 div.sk-parallel {display: flex;align-items: stretch;justify-content: center;background-color: white;position: relative;}#sk-container-id-1 div.sk-item::before, #sk-container-id-1 div.sk-parallel-item::before {content: \"\";position: absolute;border-left: 1px solid gray;box-sizing: border-box;top: 0;bottom: 0;left: 50%;z-index: -1;}#sk-container-id-1 div.sk-parallel-item {display: flex;flex-direction: column;z-index: 1;position: relative;background-color: white;}#sk-container-id-1 div.sk-parallel-item:first-child::after {align-self: flex-end;width: 50%;}#sk-container-id-1 div.sk-parallel-item:last-child::after {align-self: flex-start;width: 50%;}#sk-container-id-1 div.sk-parallel-item:only-child::after {width: 0;}#sk-container-id-1 div.sk-dashed-wrapped {border: 1px dashed gray;margin: 0 0.4em 0.5em 0.4em;box-sizing: border-box;padding-bottom: 0.4em;background-color: white;}#sk-container-id-1 div.sk-label label {font-family: monospace;font-weight: bold;display: inline-block;line-height: 1.2em;}#sk-container-id-1 div.sk-label-container {text-align: center;}#sk-container-id-1 div.sk-container {/* jupyter's `normalize.less` sets `[hidden] { display: none; }` but bootstrap.min.css set `[hidden] { display: none !important; }` so we also need the `!important` here to be able to override the default hidden behavior on the sphinx rendered scikit-learn.org. See: https://github.com/scikit-learn/scikit-learn/issues/21755 */display: inline-block !important;position: relative;}#sk-container-id-1 div.sk-text-repr-fallback {display: none;}</style><div id=\"sk-container-id-1\" class=\"sk-top-container\"><div class=\"sk-text-repr-fallback\"><pre>LabelEncoder()</pre><b>In a Jupyter environment, please rerun this cell to show the HTML representation or trust the notebook. <br />On GitHub, the HTML representation is unable to render, please try loading this page with nbviewer.org.</b></div><div class=\"sk-container\" hidden><div class=\"sk-item\"><div class=\"sk-estimator sk-toggleable\"><input class=\"sk-toggleable__control sk-hidden--visually\" id=\"sk-estimator-id-1\" type=\"checkbox\" checked><label for=\"sk-estimator-id-1\" class=\"sk-toggleable__label sk-toggleable__label-arrow\">LabelEncoder</label><div class=\"sk-toggleable__content\"><pre>LabelEncoder()</pre></div></div></div></div></div>"
      ],
      "text/plain": [
       "LabelEncoder()"
      ]
     },
     "execution_count": 34,
     "metadata": {},
     "output_type": "execute_result"
    }
   ],
   "source": [
    "le = LabelEncoder()\n",
    "le.fit(train['label'])"
   ]
  },
  {
   "cell_type": "code",
   "execution_count": 35,
   "id": "84078532",
   "metadata": {},
   "outputs": [],
   "source": [
    "y_train = le.transform(train['label'])\n",
    "y_test = le.transform(test['label'])"
   ]
  },
  {
   "cell_type": "code",
   "execution_count": 36,
   "id": "317c4881",
   "metadata": {},
   "outputs": [],
   "source": [
    "y_train = to_categorical(y_train, num_classes=7)\n",
    "y_test = to_categorical(y_test, num_classes=7)"
   ]
  },
  {
   "cell_type": "code",
   "execution_count": 38,
   "id": "74a89564",
   "metadata": {},
   "outputs": [],
   "source": [
    "model = Sequential()\n",
    "# convolution layers\n",
    "model.add(Conv2D(128, kernel_size=(3, 3), activation='relu', input_shape=(48, 48, 1)))\n",
    "model.add(MaxPooling2D(pool_size=(2,2)))\n",
    "model.add(Dropout(0.4))\n",
    "\n",
    "model.add(Conv2D(256, kernel_size=(3,3), activation='relu'))\n",
    "model.add(MaxPooling2D(pool_size=(2,2)))\n",
    "model.add(Dropout(0.4))\n",
    "\n",
    "model.add(Conv2D(512, kernel_size=(3, 3), activation='relu'))\n",
    "model.add(MaxPooling2D(pool_size=(2,2)))\n",
    "model.add(Dropout(0.4))\n",
    "\n",
    "model.add(Conv2D(512, kernel_size=(3, 3), activation='relu'))\n",
    "model.add(MaxPooling2D(pool_size=(2,2)))\n",
    "model.add(Dropout(0.4))\n",
    "\n",
    "model.add(Flatten())\n",
    "# fully connected layers\n",
    "model.add(Dense(512, activation='relu'))\n",
    "model.add(Dropout(0.4))\n",
    "model.add(Dense(256, activation='relu'))\n",
    "model.add(Dropout(0.3))\n",
    "#output layer\n",
    "model.add(Dense(7, activation='softmax'))"
   ]
  },
  {
   "cell_type": "code",
   "execution_count": 40,
   "id": "51cdd23b",
   "metadata": {},
   "outputs": [],
   "source": [
    "model.compile(optimizer = 'adam', loss = 'categorical_crossentropy', metrics = 'accuracy')"
   ]
  },
  {
   "cell_type": "code",
   "execution_count": 42,
   "id": "3427a2cf",
   "metadata": {},
   "outputs": [
    {
     "name": "stdout",
     "output_type": "stream",
     "text": [
      "Epoch 1/100\n",
      "226/226 [==============================] - 504s 2s/step - loss: 1.8234 - accuracy: 0.2441 - val_loss: 1.8100 - val_accuracy: 0.2583\n",
      "Epoch 2/100\n",
      "226/226 [==============================] - 1793s 8s/step - loss: 1.7934 - accuracy: 0.2522 - val_loss: 1.7455 - val_accuracy: 0.2884\n",
      "Epoch 3/100\n",
      "226/226 [==============================] - 968s 4s/step - loss: 1.6991 - accuracy: 0.3097 - val_loss: 1.5530 - val_accuracy: 0.3947\n",
      "Epoch 4/100\n",
      "226/226 [==============================] - 871s 4s/step - loss: 1.5661 - accuracy: 0.3839 - val_loss: 1.4587 - val_accuracy: 0.4393\n",
      "Epoch 5/100\n",
      "226/226 [==============================] - 650s 3s/step - loss: 1.4837 - accuracy: 0.4216 - val_loss: 1.3603 - val_accuracy: 0.4725\n",
      "Epoch 6/100\n",
      "226/226 [==============================] - 462s 2s/step - loss: 1.4223 - accuracy: 0.4511 - val_loss: 1.3333 - val_accuracy: 0.4833\n",
      "Epoch 7/100\n",
      "226/226 [==============================] - 412s 2s/step - loss: 1.3868 - accuracy: 0.4668 - val_loss: 1.2889 - val_accuracy: 0.5160\n",
      "Epoch 8/100\n",
      "226/226 [==============================] - 393s 2s/step - loss: 1.3516 - accuracy: 0.4780 - val_loss: 1.2423 - val_accuracy: 0.5292\n",
      "Epoch 9/100\n",
      "226/226 [==============================] - 392s 2s/step - loss: 1.3222 - accuracy: 0.4936 - val_loss: 1.2304 - val_accuracy: 0.5249\n",
      "Epoch 10/100\n",
      "226/226 [==============================] - 403s 2s/step - loss: 1.3054 - accuracy: 0.4979 - val_loss: 1.2067 - val_accuracy: 0.5354\n",
      "Epoch 11/100\n",
      "226/226 [==============================] - 391s 2s/step - loss: 1.2865 - accuracy: 0.5107 - val_loss: 1.1894 - val_accuracy: 0.5495\n",
      "Epoch 12/100\n",
      "226/226 [==============================] - 406s 2s/step - loss: 1.2641 - accuracy: 0.5179 - val_loss: 1.1943 - val_accuracy: 0.5481\n",
      "Epoch 13/100\n",
      "226/226 [==============================] - 405s 2s/step - loss: 1.2528 - accuracy: 0.5209 - val_loss: 1.1842 - val_accuracy: 0.5511\n",
      "Epoch 14/100\n",
      "226/226 [==============================] - 402s 2s/step - loss: 1.2400 - accuracy: 0.5292 - val_loss: 1.1465 - val_accuracy: 0.5676\n",
      "Epoch 15/100\n",
      "226/226 [==============================] - 445s 2s/step - loss: 1.2191 - accuracy: 0.5341 - val_loss: 1.1640 - val_accuracy: 0.5621\n",
      "Epoch 16/100\n",
      "226/226 [==============================] - 657s 3s/step - loss: 1.2111 - accuracy: 0.5375 - val_loss: 1.1390 - val_accuracy: 0.5702\n",
      "Epoch 17/100\n",
      "226/226 [==============================] - 525s 2s/step - loss: 1.2002 - accuracy: 0.5488 - val_loss: 1.1288 - val_accuracy: 0.5747\n",
      "Epoch 18/100\n",
      "226/226 [==============================] - 525s 2s/step - loss: 1.1806 - accuracy: 0.5531 - val_loss: 1.1172 - val_accuracy: 0.5780\n",
      "Epoch 19/100\n",
      "226/226 [==============================] - 529s 2s/step - loss: 1.1751 - accuracy: 0.5545 - val_loss: 1.1178 - val_accuracy: 0.5795\n",
      "Epoch 20/100\n",
      "226/226 [==============================] - 514s 2s/step - loss: 1.1669 - accuracy: 0.5541 - val_loss: 1.1203 - val_accuracy: 0.5778\n",
      "Epoch 21/100\n",
      "226/226 [==============================] - 418s 2s/step - loss: 1.1528 - accuracy: 0.5617 - val_loss: 1.1346 - val_accuracy: 0.5742\n",
      "Epoch 22/100\n",
      "226/226 [==============================] - 425s 2s/step - loss: 1.1481 - accuracy: 0.5650 - val_loss: 1.0953 - val_accuracy: 0.5829\n",
      "Epoch 23/100\n",
      "226/226 [==============================] - 395s 2s/step - loss: 1.1390 - accuracy: 0.5677 - val_loss: 1.0970 - val_accuracy: 0.5869\n",
      "Epoch 24/100\n",
      "226/226 [==============================] - 431s 2s/step - loss: 1.1221 - accuracy: 0.5751 - val_loss: 1.0863 - val_accuracy: 0.5948\n",
      "Epoch 25/100\n",
      "226/226 [==============================] - 466s 2s/step - loss: 1.1160 - accuracy: 0.5768 - val_loss: 1.0837 - val_accuracy: 0.5998\n",
      "Epoch 26/100\n",
      "226/226 [==============================] - 391s 2s/step - loss: 1.1050 - accuracy: 0.5790 - val_loss: 1.0900 - val_accuracy: 0.5841\n",
      "Epoch 27/100\n",
      "226/226 [==============================] - 387s 2s/step - loss: 1.1001 - accuracy: 0.5857 - val_loss: 1.0947 - val_accuracy: 0.5900\n",
      "Epoch 28/100\n",
      "226/226 [==============================] - 392s 2s/step - loss: 1.1027 - accuracy: 0.5808 - val_loss: 1.0753 - val_accuracy: 0.5947\n",
      "Epoch 29/100\n",
      "226/226 [==============================] - 395s 2s/step - loss: 1.0910 - accuracy: 0.5891 - val_loss: 1.0761 - val_accuracy: 0.5948\n",
      "Epoch 30/100\n",
      "226/226 [==============================] - 410s 2s/step - loss: 1.0811 - accuracy: 0.5903 - val_loss: 1.0708 - val_accuracy: 0.5985\n",
      "Epoch 31/100\n",
      "226/226 [==============================] - 409s 2s/step - loss: 1.0707 - accuracy: 0.5962 - val_loss: 1.0887 - val_accuracy: 0.5926\n",
      "Epoch 32/100\n",
      "226/226 [==============================] - 408s 2s/step - loss: 1.0753 - accuracy: 0.5966 - val_loss: 1.0696 - val_accuracy: 0.6042\n",
      "Epoch 33/100\n",
      "226/226 [==============================] - 393s 2s/step - loss: 1.0585 - accuracy: 0.5992 - val_loss: 1.0700 - val_accuracy: 0.6026\n",
      "Epoch 34/100\n",
      "226/226 [==============================] - 391s 2s/step - loss: 1.0564 - accuracy: 0.6006 - val_loss: 1.0717 - val_accuracy: 0.6018\n",
      "Epoch 35/100\n",
      "226/226 [==============================] - 413s 2s/step - loss: 1.0478 - accuracy: 0.6034 - val_loss: 1.0782 - val_accuracy: 0.6001\n",
      "Epoch 36/100\n",
      "226/226 [==============================] - 400s 2s/step - loss: 1.0403 - accuracy: 0.6053 - val_loss: 1.0592 - val_accuracy: 0.6088\n",
      "Epoch 37/100\n",
      "226/226 [==============================] - 395s 2s/step - loss: 1.0397 - accuracy: 0.6076 - val_loss: 1.0573 - val_accuracy: 0.6057\n",
      "Epoch 38/100\n",
      "226/226 [==============================] - 389s 2s/step - loss: 1.0285 - accuracy: 0.6137 - val_loss: 1.0607 - val_accuracy: 0.6115\n",
      "Epoch 39/100\n",
      "226/226 [==============================] - 390s 2s/step - loss: 1.0269 - accuracy: 0.6131 - val_loss: 1.0688 - val_accuracy: 0.6044\n",
      "Epoch 40/100\n",
      "226/226 [==============================] - 392s 2s/step - loss: 1.0185 - accuracy: 0.6150 - val_loss: 1.0546 - val_accuracy: 0.6151\n",
      "Epoch 41/100\n",
      "226/226 [==============================] - 400s 2s/step - loss: 1.0092 - accuracy: 0.6193 - val_loss: 1.0536 - val_accuracy: 0.6088\n",
      "Epoch 42/100\n",
      "226/226 [==============================] - 406s 2s/step - loss: 0.9986 - accuracy: 0.6238 - val_loss: 1.0493 - val_accuracy: 0.6115\n",
      "Epoch 43/100\n",
      "226/226 [==============================] - 427s 2s/step - loss: 1.0049 - accuracy: 0.6218 - val_loss: 1.0439 - val_accuracy: 0.6118\n",
      "Epoch 44/100\n",
      "226/226 [==============================] - 380s 2s/step - loss: 0.9910 - accuracy: 0.6281 - val_loss: 1.0491 - val_accuracy: 0.6110\n",
      "Epoch 45/100\n",
      "226/226 [==============================] - 380s 2s/step - loss: 0.9797 - accuracy: 0.6326 - val_loss: 1.0450 - val_accuracy: 0.6121\n",
      "Epoch 46/100\n",
      "226/226 [==============================] - 382s 2s/step - loss: 0.9873 - accuracy: 0.6296 - val_loss: 1.0379 - val_accuracy: 0.6169\n",
      "Epoch 47/100\n",
      "226/226 [==============================] - 389s 2s/step - loss: 0.9739 - accuracy: 0.6315 - val_loss: 1.0454 - val_accuracy: 0.6121\n",
      "Epoch 48/100\n",
      "226/226 [==============================] - 411s 2s/step - loss: 0.9741 - accuracy: 0.6361 - val_loss: 1.0345 - val_accuracy: 0.6189\n",
      "Epoch 49/100\n",
      "226/226 [==============================] - 2447s 11s/step - loss: 0.9714 - accuracy: 0.6366 - val_loss: 1.0444 - val_accuracy: 0.6160\n",
      "Epoch 50/100\n",
      "226/226 [==============================] - 384s 2s/step - loss: 0.9583 - accuracy: 0.6410 - val_loss: 1.0357 - val_accuracy: 0.6217\n",
      "Epoch 51/100\n",
      "226/226 [==============================] - 380s 2s/step - loss: 0.9544 - accuracy: 0.6408 - val_loss: 1.0443 - val_accuracy: 0.6132\n",
      "Epoch 52/100\n",
      "226/226 [==============================] - 383s 2s/step - loss: 0.9657 - accuracy: 0.6386 - val_loss: 1.0370 - val_accuracy: 0.6210\n",
      "Epoch 53/100\n",
      "226/226 [==============================] - 380s 2s/step - loss: 0.9490 - accuracy: 0.6459 - val_loss: 1.0391 - val_accuracy: 0.6179\n",
      "Epoch 54/100\n",
      "226/226 [==============================] - 386s 2s/step - loss: 0.9426 - accuracy: 0.6468 - val_loss: 1.0326 - val_accuracy: 0.6257\n",
      "Epoch 55/100\n",
      "226/226 [==============================] - 392s 2s/step - loss: 0.9253 - accuracy: 0.6562 - val_loss: 1.0521 - val_accuracy: 0.6197\n",
      "Epoch 56/100\n",
      "226/226 [==============================] - 386s 2s/step - loss: 0.9302 - accuracy: 0.6511 - val_loss: 1.0528 - val_accuracy: 0.6163\n",
      "Epoch 57/100\n"
     ]
    },
    {
     "name": "stdout",
     "output_type": "stream",
     "text": [
      "226/226 [==============================] - 384s 2s/step - loss: 0.9281 - accuracy: 0.6540 - val_loss: 1.0392 - val_accuracy: 0.6189\n",
      "Epoch 58/100\n",
      "226/226 [==============================] - 395s 2s/step - loss: 0.9155 - accuracy: 0.6568 - val_loss: 1.0290 - val_accuracy: 0.6271\n",
      "Epoch 59/100\n",
      "226/226 [==============================] - 386s 2s/step - loss: 0.9206 - accuracy: 0.6574 - val_loss: 1.0345 - val_accuracy: 0.6272\n",
      "Epoch 60/100\n",
      "226/226 [==============================] - 385s 2s/step - loss: 0.9188 - accuracy: 0.6613 - val_loss: 1.0334 - val_accuracy: 0.6255\n",
      "Epoch 61/100\n",
      "226/226 [==============================] - 390s 2s/step - loss: 0.9056 - accuracy: 0.6627 - val_loss: 1.0316 - val_accuracy: 0.6231\n",
      "Epoch 62/100\n",
      "226/226 [==============================] - 396s 2s/step - loss: 0.9017 - accuracy: 0.6667 - val_loss: 1.0305 - val_accuracy: 0.6245\n",
      "Epoch 63/100\n",
      "226/226 [==============================] - 394s 2s/step - loss: 0.8939 - accuracy: 0.6675 - val_loss: 1.0290 - val_accuracy: 0.6234\n",
      "Epoch 64/100\n",
      "226/226 [==============================] - 395s 2s/step - loss: 0.8894 - accuracy: 0.6682 - val_loss: 1.0275 - val_accuracy: 0.6257\n",
      "Epoch 65/100\n",
      "226/226 [==============================] - 401s 2s/step - loss: 0.8854 - accuracy: 0.6716 - val_loss: 1.0270 - val_accuracy: 0.6269\n",
      "Epoch 66/100\n",
      "226/226 [==============================] - 395s 2s/step - loss: 0.8814 - accuracy: 0.6737 - val_loss: 1.0190 - val_accuracy: 0.6367\n",
      "Epoch 67/100\n",
      "226/226 [==============================] - 389s 2s/step - loss: 0.8695 - accuracy: 0.6785 - val_loss: 1.0386 - val_accuracy: 0.6299\n",
      "Epoch 68/100\n",
      "226/226 [==============================] - 393s 2s/step - loss: 0.8777 - accuracy: 0.6738 - val_loss: 1.0186 - val_accuracy: 0.6311\n",
      "Epoch 69/100\n",
      "226/226 [==============================] - 390s 2s/step - loss: 0.8811 - accuracy: 0.6728 - val_loss: 1.0271 - val_accuracy: 0.6243\n",
      "Epoch 70/100\n",
      "226/226 [==============================] - 486s 2s/step - loss: 0.8716 - accuracy: 0.6768 - val_loss: 1.0273 - val_accuracy: 0.6311\n",
      "Epoch 71/100\n",
      "226/226 [==============================] - 452s 2s/step - loss: 0.8655 - accuracy: 0.6767 - val_loss: 1.0244 - val_accuracy: 0.6281\n",
      "Epoch 72/100\n",
      "226/226 [==============================] - 463s 2s/step - loss: 0.8512 - accuracy: 0.6863 - val_loss: 1.0325 - val_accuracy: 0.6265\n",
      "Epoch 73/100\n",
      "226/226 [==============================] - 459s 2s/step - loss: 0.8466 - accuracy: 0.6882 - val_loss: 1.0503 - val_accuracy: 0.6227\n",
      "Epoch 74/100\n",
      "226/226 [==============================] - 441s 2s/step - loss: 0.8495 - accuracy: 0.6868 - val_loss: 1.0387 - val_accuracy: 0.6296\n",
      "Epoch 75/100\n",
      "226/226 [==============================] - 442s 2s/step - loss: 0.8486 - accuracy: 0.6870 - val_loss: 1.0366 - val_accuracy: 0.6237\n",
      "Epoch 76/100\n",
      "226/226 [==============================] - 472s 2s/step - loss: 0.8348 - accuracy: 0.6935 - val_loss: 1.0512 - val_accuracy: 0.6228\n",
      "Epoch 77/100\n",
      "226/226 [==============================] - 441s 2s/step - loss: 0.8440 - accuracy: 0.6918 - val_loss: 1.0350 - val_accuracy: 0.6275\n",
      "Epoch 78/100\n",
      "226/226 [==============================] - 415s 2s/step - loss: 0.8407 - accuracy: 0.6900 - val_loss: 1.0279 - val_accuracy: 0.6255\n",
      "Epoch 79/100\n",
      "226/226 [==============================] - 386s 2s/step - loss: 0.8233 - accuracy: 0.6964 - val_loss: 1.0387 - val_accuracy: 0.6277\n",
      "Epoch 80/100\n",
      "226/226 [==============================] - 387s 2s/step - loss: 0.8326 - accuracy: 0.6930 - val_loss: 1.0446 - val_accuracy: 0.6255\n",
      "Epoch 81/100\n",
      "226/226 [==============================] - 392s 2s/step - loss: 0.8280 - accuracy: 0.6958 - val_loss: 1.0383 - val_accuracy: 0.6250\n",
      "Epoch 82/100\n",
      "226/226 [==============================] - 386s 2s/step - loss: 0.8192 - accuracy: 0.6987 - val_loss: 1.0382 - val_accuracy: 0.6251\n",
      "Epoch 83/100\n",
      "226/226 [==============================] - 390s 2s/step - loss: 0.8082 - accuracy: 0.7016 - val_loss: 1.0266 - val_accuracy: 0.6323\n",
      "Epoch 84/100\n",
      "226/226 [==============================] - 395s 2s/step - loss: 0.8190 - accuracy: 0.6984 - val_loss: 1.0306 - val_accuracy: 0.6284\n",
      "Epoch 85/100\n",
      "226/226 [==============================] - 387s 2s/step - loss: 0.8079 - accuracy: 0.7011 - val_loss: 1.0619 - val_accuracy: 0.6226\n",
      "Epoch 86/100\n",
      "226/226 [==============================] - 384s 2s/step - loss: 0.8014 - accuracy: 0.7021 - val_loss: 1.0339 - val_accuracy: 0.6289\n",
      "Epoch 87/100\n",
      "226/226 [==============================] - 389s 2s/step - loss: 0.8018 - accuracy: 0.7093 - val_loss: 1.0378 - val_accuracy: 0.6264\n",
      "Epoch 88/100\n",
      "226/226 [==============================] - 386s 2s/step - loss: 0.7939 - accuracy: 0.7085 - val_loss: 1.0290 - val_accuracy: 0.6330\n",
      "Epoch 89/100\n",
      "226/226 [==============================] - 28587s 127s/step - loss: 0.7896 - accuracy: 0.7140 - val_loss: 1.0322 - val_accuracy: 0.6318\n",
      "Epoch 90/100\n",
      "226/226 [==============================] - 514s 2s/step - loss: 0.7904 - accuracy: 0.7103 - val_loss: 1.0311 - val_accuracy: 0.6329\n",
      "Epoch 91/100\n",
      "226/226 [==============================] - 516s 2s/step - loss: 0.7894 - accuracy: 0.7135 - val_loss: 1.0437 - val_accuracy: 0.6265\n",
      "Epoch 92/100\n",
      "226/226 [==============================] - 519s 2s/step - loss: 0.7889 - accuracy: 0.7152 - val_loss: 1.0200 - val_accuracy: 0.6386\n",
      "Epoch 93/100\n",
      "226/226 [==============================] - 2569s 11s/step - loss: 0.7676 - accuracy: 0.7208 - val_loss: 1.0264 - val_accuracy: 0.6378\n",
      "Epoch 94/100\n",
      "226/226 [==============================] - 518s 2s/step - loss: 0.7734 - accuracy: 0.7172 - val_loss: 1.0227 - val_accuracy: 0.6343\n",
      "Epoch 95/100\n",
      "226/226 [==============================] - 516s 2s/step - loss: 0.7667 - accuracy: 0.7182 - val_loss: 1.0345 - val_accuracy: 0.6325\n",
      "Epoch 96/100\n",
      "226/226 [==============================] - 516s 2s/step - loss: 0.7655 - accuracy: 0.7194 - val_loss: 1.0371 - val_accuracy: 0.6374\n",
      "Epoch 97/100\n",
      "226/226 [==============================] - 452s 2s/step - loss: 0.7593 - accuracy: 0.7245 - val_loss: 1.0275 - val_accuracy: 0.6378\n",
      "Epoch 98/100\n",
      "226/226 [==============================] - 363s 2s/step - loss: 0.7560 - accuracy: 0.7264 - val_loss: 1.0349 - val_accuracy: 0.6364\n",
      "Epoch 99/100\n",
      "226/226 [==============================] - 863s 4s/step - loss: 0.7506 - accuracy: 0.7288 - val_loss: 1.0432 - val_accuracy: 0.6360\n",
      "Epoch 100/100\n",
      "226/226 [==============================] - 349s 2s/step - loss: 0.7567 - accuracy: 0.7251 - val_loss: 1.0325 - val_accuracy: 0.6333\n"
     ]
    },
    {
     "data": {
      "text/plain": [
       "<keras.src.callbacks.History at 0x29d737f3950>"
      ]
     },
     "execution_count": 42,
     "metadata": {},
     "output_type": "execute_result"
    }
   ],
   "source": [
    "model.fit(x=X_train, y=y_train, batch_size=128, epochs=100, validation_data = (X_test, y_test))\n"
   ]
  },
  {
   "cell_type": "code",
   "execution_count": 44,
   "id": "77447991",
   "metadata": {},
   "outputs": [],
   "source": [
    "model_json = model.to_json()\n",
    "with open(\"emotiondetector.json\", \"w\") as json_file:\n",
    "    json_file.write(model_json)\n",
    "model.save(\"emotiondetector.h5\")"
   ]
  },
  {
   "cell_type": "code",
   "execution_count": 45,
   "id": "521536b3",
   "metadata": {},
   "outputs": [],
   "source": [
    "from keras.models import model_from_json"
   ]
  },
  {
   "cell_type": "code",
   "execution_count": 46,
   "id": "63c8bbc7",
   "metadata": {},
   "outputs": [],
   "source": [
    "json_file = open(\"emotiondetector.json\", \"r\")\n",
    "model_json = json_file.read()\n",
    "json_file.close()\n",
    "model = model_from_json(model_json)\n",
    "model.load_weights(\"emotiondetector.h5\")"
   ]
  },
  {
   "cell_type": "code",
   "execution_count": 47,
   "id": "db284865",
   "metadata": {},
   "outputs": [],
   "source": [
    "label = ['angry', 'disgut', 'fear', 'happy', 'neutral', 'sad', 'surprise']"
   ]
  },
  {
   "cell_type": "code",
   "execution_count": 50,
   "id": "5f6ad90f",
   "metadata": {},
   "outputs": [],
   "source": [
    "def ef(image):\n",
    "    img = load_img(image, grayscale = True)\n",
    "    feature = np.array(img)\n",
    "    feature = feature.reshape(1, 48, 48, 1)\n",
    "    return feature/255.0"
   ]
  },
  {
   "cell_type": "code",
   "execution_count": 51,
   "id": "90fae6e3",
   "metadata": {},
   "outputs": [
    {
     "name": "stdout",
     "output_type": "stream",
     "text": [
      "ori img is of angry\n",
      "1/1 [==============================] - 0s 110ms/step\n",
      "model pred is  angry\n"
     ]
    }
   ],
   "source": [
    "image = 'images/train/angry/22.jpg'\n",
    "print(\"ori img is of angry\")\n",
    "img = ef(image)\n",
    "pred = model.predict(img)\n",
    "pred_label = label[pred.argmax()]\n",
    "print('model pred is ', pred_label)"
   ]
  },
  {
   "cell_type": "code",
   "execution_count": 52,
   "id": "df8a9623",
   "metadata": {},
   "outputs": [],
   "source": [
    "import matplotlib.pyplot as plt\n",
    "%matplotlib inline"
   ]
  },
  {
   "cell_type": "code",
   "execution_count": 57,
   "id": "a30e1b07",
   "metadata": {},
   "outputs": [
    {
     "name": "stdout",
     "output_type": "stream",
     "text": [
      "ori img is sad\n",
      "1/1 [==============================] - 0s 23ms/step\n",
      "model pred is  sad\n"
     ]
    },
    {
     "data": {
      "text/plain": [
       "<matplotlib.image.AxesImage at 0x29d7e0b7850>"
      ]
     },
     "execution_count": 57,
     "metadata": {},
     "output_type": "execute_result"
    },
    {
     "data": {
      "image/png": "[encoded data removed]",
      "text/plain": [
       "<Figure size 640x480 with 1 Axes>"
      ]
     },
     "metadata": {},
     "output_type": "display_data"
    }
   ],
   "source": [
    "image = 'images/train/sad/42.jpg'\n",
    "print('ori img is sad')\n",
    "img = ef(image)\n",
    "pred = model.predict(img)\n",
    "pred_label = label[pred.argmax()]\n",
    "print(\"model pred is \", pred_label)\n",
    "plt.imshow(img.reshape(48, 48), cmap = \"gray\")"
   ]
  },
  {
   "cell_type": "code",
   "execution_count": null,
   "id": "0fb120fa",
   "metadata": {},
   "outputs": [],
   "source": []
  }
 ],
 "metadata": {
  "kernelspec": {
   "display_name": "Python 3 (ipykernel)",
   "language": "python",
   "name": "python3"
  },
  "language_info": {
   "codemirror_mode": {
    "name": "ipython",
    "version": 3
   },
   "file_extension": ".py",
   "mimetype": "text/x-python",
   "name": "python",
   "nbconvert_exporter": "python",
   "pygments_lexer": "ipython3",
   "version": "3.11.4"
  }
 },
 "nbformat": 4,
 "nbformat_minor": 5
}
